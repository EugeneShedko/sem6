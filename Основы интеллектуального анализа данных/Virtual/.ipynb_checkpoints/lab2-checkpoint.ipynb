{
 "cells": [
  {
   "cell_type": "code",
   "execution_count": null,
   "id": "14edad0a-79f7-4c2d-9a16-47b581271bf7",
   "metadata": {},
   "outputs": [],
   "source": [
    "import pandas as pds\n",
    "import mglearn\n",
    "import matplotlib.pyplot as plt\n",
    "import sklearn\n",
    "import numpy as np\n",
    "\n",
    "from sklearn.datasets import load_iris\n",
    "iris_dataset = load_iris()\n",
    "\n",
    "from sklearn.model_selection import train_test_split\n",
    "X_train, X_test, y_train, y_test = train_test_split(\n",
    "    iris_dataset['data'], iris_dataset['target'], random_state=0)\n",
    "\n",
    "print(\"форма массива X_train: {}\".format(X_train.shape))\n",
    "print(\"форма массива y_train: {}\".format(y_train.shape))\n",
    "\n",
    "print(\"формамассива X_test: {}\".format(X_test.shape))\n",
    "print(\"формамассива y_test: {}\".format(y_test.shape))\n",
    "\n",
    "iris_dataframe = pds.DataFrame(X_train, columns=iris_dataset.feature_names)\n",
    "\n",
    "from pandas.plotting import scatter_matrix\n",
    "\n",
    "grr = scatter_matrix(iris_dataframe, c=y_train, figsize=(15, 15), marker='o'\n",
    "                     ,hist_kwds={'bins': 20}, s=60, alpha=.8, cmap=mglearn.cm3)\n",
    "\n",
    "from sklearn.neighbors import KNeighborsClassifier\n",
    "\n",
    "knn = KNeighborsClassifier(n_neighbors=1)\n",
    "\n",
    "knn.fit(X_train, y_train)\n",
    "\n",
    "X_new = np.array([[5, 2.9, 1, 0.2]])\n",
    "print(\"форма массива X_new: {}\".format(X_new.shape))\n",
    "\n",
    "prediction = knn.predict(X_new)\n",
    "print(\"Прогноз: {}\".format(prediction))\n",
    "print(\"Спрогнозированная метка: {}\".format(iris_dataset['target_names'][prediction]))\n",
    "\n",
    "y_pred = knn.predict(X_test)\n",
    "print(\"Прогнозы для тестового набора:\\n{}\".format(y_pred))\n",
    "print(\"Правильность на тестовом наборе: {:.2f}\".format(np.mean(y_pred == y_test)))\n",
    "print(\"Правильность на тестовом наборе: {:.2f}\".format(knn.score(X_test, y_test)))"
   ]
  },
  {
   "cell_type": "code",
   "execution_count": null,
   "id": "db12916b-0ea5-400e-a482-e8e1d0ccc671",
   "metadata": {},
   "outputs": [],
   "source": []
  },
  {
   "cell_type": "code",
   "execution_count": null,
   "id": "4afa70f3-3d68-4d71-a4f2-c2fecdcbf266",
   "metadata": {},
   "outputs": [],
   "source": []
  }
 ],
 "metadata": {
  "kernelspec": {
   "display_name": "Python 3 (ipykernel)",
   "language": "python",
   "name": "python3"
  },
  "language_info": {
   "codemirror_mode": {
    "name": "ipython",
    "version": 3
   },
   "file_extension": ".py",
   "mimetype": "text/x-python",
   "name": "python",
   "nbconvert_exporter": "python",
   "pygments_lexer": "ipython3",
   "version": "3.10.2"
  }
 },
 "nbformat": 4,
 "nbformat_minor": 5
}
